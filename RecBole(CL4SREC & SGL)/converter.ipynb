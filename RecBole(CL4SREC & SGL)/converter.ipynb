{
 "cells": [
  {
   "cell_type": "code",
   "execution_count": 1,
   "metadata": {},
   "outputs": [],
   "source": [
    "import os"
   ]
  },
  {
   "cell_type": "code",
   "execution_count": 23,
   "metadata": {},
   "outputs": [],
   "source": [
    "train = []\n",
    "val = []\n",
    "test = []"
   ]
  },
  {
   "cell_type": "code",
   "execution_count": 24,
   "metadata": {},
   "outputs": [],
   "source": [
    "def get_dataset(file_path: str, container:list):\n",
    "    with open(file_path, 'r') as f:\n",
    "        for line in f.readlines():\n",
    "            container.append(line.split())"
   ]
  },
  {
   "cell_type": "code",
   "execution_count": 25,
   "metadata": {},
   "outputs": [],
   "source": [
    "base_path = \"Beauty\"\n",
    "\n",
    "get_dataset(f\"{base_path}/train.txt\", train)\n",
    "get_dataset(f\"{base_path}/valid.txt\", val)\n",
    "get_dataset(f\"{base_path}/test.txt\", test)"
   ]
  },
  {
   "cell_type": "code",
   "execution_count": 30,
   "metadata": {},
   "outputs": [],
   "source": [
    "def add_to_dataset(source:list, target:dict):\n",
    "    for uid, itemid, timestamp in source:\n",
    "        if uid not in target:\n",
    "            target[uid] = [[itemid, timestamp]]\n",
    "        else:\n",
    "            target[uid].append([itemid, timestamp])"
   ]
  },
  {
   "cell_type": "code",
   "execution_count": 31,
   "metadata": {},
   "outputs": [],
   "source": [
    "whole_dataset = {}\n",
    "\n",
    "add_to_dataset(train, whole_dataset)\n",
    "add_to_dataset(val, whole_dataset)\n",
    "add_to_dataset(test, whole_dataset)"
   ]
  },
  {
   "cell_type": "code",
   "execution_count": 32,
   "metadata": {},
   "outputs": [],
   "source": [
    "train_and_val = {}\n",
    "\n",
    "add_to_dataset(train, train_and_val)\n",
    "add_to_dataset(val, train_and_val)"
   ]
  },
  {
   "cell_type": "code",
   "execution_count": 34,
   "metadata": {},
   "outputs": [
    {
     "data": {
      "text/plain": [
       "[['6845', '1318896000'],\n",
       " ['7872', '1318896000'],\n",
       " ['4584', '1328140800'],\n",
       " ['0', '1391040000'],\n",
       " ['5405', '1391040000']]"
      ]
     },
     "execution_count": 34,
     "metadata": {},
     "output_type": "execute_result"
    }
   ],
   "source": [
    "whole_dataset['0']"
   ]
  },
  {
   "cell_type": "code",
   "execution_count": 37,
   "metadata": {},
   "outputs": [],
   "source": [
    "with open(f\"{base_path}/beauty.inter\", 'w') as f:\n",
    "    for uid, bunch in whole_dataset.items():\n",
    "        for itemid, timestamp in bunch:\n",
    "            f.write(f\"{uid},{itemid},5,{timestamp}\\n\")"
   ]
  },
  {
   "cell_type": "code",
   "execution_count": 38,
   "metadata": {},
   "outputs": [],
   "source": [
    "with open(f\"{base_path}/beauty.train\", 'w') as f:\n",
    "    for uid, bunch in train_and_val.items():\n",
    "        for itemid, timestamp in bunch:\n",
    "            f.write(f\"{uid},{itemid}\\n\")"
   ]
  }
 ],
 "metadata": {
  "interpreter": {
   "hash": "62cff8cffd784b3d2054ce09ef3aabb8bf33ec70998f2c3481d5dc3a32419a7d"
  },
  "kernelspec": {
   "display_name": "Python 3.10.2 64-bit (windows store)",
   "language": "python",
   "name": "python3"
  },
  "language_info": {
   "codemirror_mode": {
    "name": "ipython",
    "version": 3
   },
   "file_extension": ".py",
   "mimetype": "text/x-python",
   "name": "python",
   "nbconvert_exporter": "python",
   "pygments_lexer": "ipython3",
   "version": "3.10.2"
  },
  "orig_nbformat": 4
 },
 "nbformat": 4,
 "nbformat_minor": 2
}
